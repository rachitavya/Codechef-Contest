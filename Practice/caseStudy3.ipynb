{
 "cells": [
  {
   "cell_type": "code",
   "execution_count": 18,
   "id": "f4e711b1",
   "metadata": {},
   "outputs": [],
   "source": [
    "import numpy as np"
   ]
  },
  {
   "cell_type": "code",
   "execution_count": 19,
   "id": "ee21a171",
   "metadata": {},
   "outputs": [],
   "source": [
    "prob=np.array([]).astype(float)"
   ]
  },
  {
   "cell_type": "code",
   "execution_count": 26,
   "id": "ce5979b2",
   "metadata": {},
   "outputs": [
    {
     "name": "stdout",
     "output_type": "stream",
     "text": [
      "Input the rain probability - 0.04\n",
      "Input the rain probability - 0.08\n",
      "Input the rain probability - 0.7\n",
      "Input the rain probability - 0.4\n",
      "Input the rain probability - 0.02\n",
      "Input the rain probability - 0.2\n",
      "Input the rain probability - 0.4\n"
     ]
    }
   ],
   "source": [
    "match=0\n",
    "for i in range(7):\n",
    "    n=float(input('Input the rain probability - '))\n",
    "    prob=np.append(prob,n)\n",
    "    if n>=0.1 and n<0.5:\n",
    "        match+=1\n",
    "    if n>=0.5:\n",
    "        match+=2"
   ]
  },
  {
   "cell_type": "code",
   "execution_count": 27,
   "id": "dda4a923",
   "metadata": {},
   "outputs": [
    {
     "name": "stdout",
     "output_type": "stream",
     "text": [
      "Number of matches that will be played are - 9\n"
     ]
    }
   ],
   "source": [
    "print(\"Number of matches that will be played are - \"+str(14-match))"
   ]
  },
  {
   "cell_type": "code",
   "execution_count": null,
   "id": "07fb34b7",
   "metadata": {},
   "outputs": [],
   "source": []
  }
 ],
 "metadata": {
  "kernelspec": {
   "display_name": "Python 3",
   "language": "python",
   "name": "python3"
  },
  "language_info": {
   "codemirror_mode": {
    "name": "ipython",
    "version": 3
   },
   "file_extension": ".py",
   "mimetype": "text/x-python",
   "name": "python",
   "nbconvert_exporter": "python",
   "pygments_lexer": "ipython3",
   "version": "3.6.0 (v3.6.0:41df79263a11, Dec 23 2016, 08:06:12) [MSC v.1900 64 bit (AMD64)]"
  },
  "vscode": {
   "interpreter": {
    "hash": "af845a78691ceb0c7251e135094df457b97ce310106d4dcea834ca60a748fb5f"
   }
  }
 },
 "nbformat": 4,
 "nbformat_minor": 5
}
