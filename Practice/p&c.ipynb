{
 "cells": [
  {
   "cell_type": "code",
   "execution_count": 19,
   "id": "033f8c16",
   "metadata": {},
   "outputs": [
    {
     "name": "stdout",
     "output_type": "stream",
     "text": [
      "Input the value of n: 6\n",
      "Input the value of r: 4\n",
      "6P4 = 360.0\n",
      "6C4 = 15.0\n"
     ]
    }
   ],
   "source": [
    "def fact(num):\n",
    "    if num==1:\n",
    "        return 1\n",
    "    else:\n",
    "        return num*fact(num-1)\n",
    "\n",
    "n=int(input('Input the value of n: '))\n",
    "r=int(input('Input the value of r: '))\n",
    "\n",
    "print(str(n)+'P'+str(r)+' = '+str(fact(n)/fact(n-r)))\n",
    "print(str(n)+'C'+str(r)+' = '+str(fact(n)/(fact(r)*fact(n-r))))"
   ]
  },
  {
   "cell_type": "code",
   "execution_count": null,
   "id": "31ab2cc6",
   "metadata": {},
   "outputs": [],
   "source": []
  }
 ],
 "metadata": {
  "kernelspec": {
   "display_name": "Python 3 (ipykernel)",
   "language": "python",
   "name": "python3"
  },
  "language_info": {
   "codemirror_mode": {
    "name": "ipython",
    "version": 3
   },
   "file_extension": ".py",
   "mimetype": "text/x-python",
   "name": "python",
   "nbconvert_exporter": "python",
   "pygments_lexer": "ipython3",
   "version": "3.9.12"
  }
 },
 "nbformat": 4,
 "nbformat_minor": 5
}
